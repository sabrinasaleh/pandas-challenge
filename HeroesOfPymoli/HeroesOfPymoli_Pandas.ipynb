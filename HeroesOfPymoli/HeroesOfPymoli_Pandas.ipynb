{
 "cells": [
  {
   "cell_type": "code",
   "execution_count": 1,
   "metadata": {},
   "outputs": [
    {
     "data": {
      "text/html": [
       "<div>\n",
       "<style scoped>\n",
       "    .dataframe tbody tr th:only-of-type {\n",
       "        vertical-align: middle;\n",
       "    }\n",
       "\n",
       "    .dataframe tbody tr th {\n",
       "        vertical-align: top;\n",
       "    }\n",
       "\n",
       "    .dataframe thead th {\n",
       "        text-align: right;\n",
       "    }\n",
       "</style>\n",
       "<table border=\"1\" class=\"dataframe\">\n",
       "  <thead>\n",
       "    <tr style=\"text-align: right;\">\n",
       "      <th></th>\n",
       "      <th>Purchase ID</th>\n",
       "      <th>SN</th>\n",
       "      <th>Age</th>\n",
       "      <th>Gender</th>\n",
       "      <th>Item ID</th>\n",
       "      <th>Item Name</th>\n",
       "      <th>Price</th>\n",
       "    </tr>\n",
       "  </thead>\n",
       "  <tbody>\n",
       "    <tr>\n",
       "      <th>0</th>\n",
       "      <td>0</td>\n",
       "      <td>Lisim78</td>\n",
       "      <td>20</td>\n",
       "      <td>Male</td>\n",
       "      <td>108</td>\n",
       "      <td>Extraction, Quickblade Of Trembling Hands</td>\n",
       "      <td>3.53</td>\n",
       "    </tr>\n",
       "    <tr>\n",
       "      <th>1</th>\n",
       "      <td>1</td>\n",
       "      <td>Lisovynya38</td>\n",
       "      <td>40</td>\n",
       "      <td>Male</td>\n",
       "      <td>143</td>\n",
       "      <td>Frenzied Scimitar</td>\n",
       "      <td>1.56</td>\n",
       "    </tr>\n",
       "    <tr>\n",
       "      <th>2</th>\n",
       "      <td>2</td>\n",
       "      <td>Ithergue48</td>\n",
       "      <td>24</td>\n",
       "      <td>Male</td>\n",
       "      <td>92</td>\n",
       "      <td>Final Critic</td>\n",
       "      <td>4.88</td>\n",
       "    </tr>\n",
       "    <tr>\n",
       "      <th>3</th>\n",
       "      <td>3</td>\n",
       "      <td>Chamassasya86</td>\n",
       "      <td>24</td>\n",
       "      <td>Male</td>\n",
       "      <td>100</td>\n",
       "      <td>Blindscythe</td>\n",
       "      <td>3.27</td>\n",
       "    </tr>\n",
       "    <tr>\n",
       "      <th>4</th>\n",
       "      <td>4</td>\n",
       "      <td>Iskosia90</td>\n",
       "      <td>23</td>\n",
       "      <td>Male</td>\n",
       "      <td>131</td>\n",
       "      <td>Fury</td>\n",
       "      <td>1.44</td>\n",
       "    </tr>\n",
       "  </tbody>\n",
       "</table>\n",
       "</div>"
      ],
      "text/plain": [
       "   Purchase ID             SN  Age Gender  Item ID  \\\n",
       "0            0        Lisim78   20   Male      108   \n",
       "1            1    Lisovynya38   40   Male      143   \n",
       "2            2     Ithergue48   24   Male       92   \n",
       "3            3  Chamassasya86   24   Male      100   \n",
       "4            4      Iskosia90   23   Male      131   \n",
       "\n",
       "                                   Item Name  Price  \n",
       "0  Extraction, Quickblade Of Trembling Hands   3.53  \n",
       "1                          Frenzied Scimitar   1.56  \n",
       "2                               Final Critic   4.88  \n",
       "3                                Blindscythe   3.27  \n",
       "4                                       Fury   1.44  "
      ]
     },
     "execution_count": 1,
     "metadata": {},
     "output_type": "execute_result"
    }
   ],
   "source": [
    "# Dependencies and Setup\n",
    "%load_ext lab_black\n",
    "import pandas as pd\n",
    "\n",
    "# File to Load\n",
    "file_to_load = \"Resources/purchase_data.csv\"\n",
    "\n",
    "# Read Purchasing File and store into Pandas data frame\n",
    "purchase_data = pd.read_csv(file_to_load)\n",
    "purchase_data.head()"
   ]
  },
  {
   "cell_type": "markdown",
   "metadata": {},
   "source": [
    "## Player Count"
   ]
  },
  {
   "cell_type": "markdown",
   "metadata": {},
   "source": [
    "* Display the total number of players\n"
   ]
  },
  {
   "cell_type": "code",
   "execution_count": 2,
   "metadata": {},
   "outputs": [
    {
     "data": {
      "text/html": [
       "<div>\n",
       "<style scoped>\n",
       "    .dataframe tbody tr th:only-of-type {\n",
       "        vertical-align: middle;\n",
       "    }\n",
       "\n",
       "    .dataframe tbody tr th {\n",
       "        vertical-align: top;\n",
       "    }\n",
       "\n",
       "    .dataframe thead th {\n",
       "        text-align: right;\n",
       "    }\n",
       "</style>\n",
       "<table border=\"1\" class=\"dataframe\">\n",
       "  <thead>\n",
       "    <tr style=\"text-align: right;\">\n",
       "      <th></th>\n",
       "      <th>Total Players</th>\n",
       "    </tr>\n",
       "  </thead>\n",
       "  <tbody>\n",
       "    <tr>\n",
       "      <th>0</th>\n",
       "      <td>576</td>\n",
       "    </tr>\n",
       "  </tbody>\n",
       "</table>\n",
       "</div>"
      ],
      "text/plain": [
       "   Total Players\n",
       "0            576"
      ]
     },
     "execution_count": 2,
     "metadata": {},
     "output_type": "execute_result"
    }
   ],
   "source": [
    "# Calculating length of unique screen names \"SN\" for total players\n",
    "total_players = len(purchase_data[\"SN\"].unique())\n",
    "\n",
    "# Creating DataFrame for Total Players\n",
    "df1 = pd.DataFrame({\"Total Players\": [total_players]})\n",
    "df1"
   ]
  },
  {
   "cell_type": "markdown",
   "metadata": {},
   "source": [
    "## Purchasing Analysis (Total)"
   ]
  },
  {
   "cell_type": "markdown",
   "metadata": {},
   "source": [
    "* Run basic calculations to obtain number of unique items, average price, etc.\n",
    "\n",
    "\n",
    "* Create a summary data frame to hold the results\n",
    "\n",
    "\n",
    "* Optional: give the displayed data cleaner formatting\n",
    "\n",
    "\n",
    "* Display the summary data frame\n"
   ]
  },
  {
   "cell_type": "code",
   "execution_count": 3,
   "metadata": {
    "scrolled": true
   },
   "outputs": [
    {
     "data": {
      "text/html": [
       "<style  type=\"text/css\" >\n",
       "</style><table id=\"T_da98bc40_f530_11ea_b976_42010a8a0002\" ><thead>    <tr>        <th class=\"blank level0\" ></th>        <th class=\"col_heading level0 col0\" >Number of Unique Items</th>        <th class=\"col_heading level0 col1\" >Average Price</th>        <th class=\"col_heading level0 col2\" >Number of Purchases</th>        <th class=\"col_heading level0 col3\" >Total Revenue</th>    </tr></thead><tbody>\n",
       "                <tr>\n",
       "                        <th id=\"T_da98bc40_f530_11ea_b976_42010a8a0002level0_row0\" class=\"row_heading level0 row0\" >0</th>\n",
       "                        <td id=\"T_da98bc40_f530_11ea_b976_42010a8a0002row0_col0\" class=\"data row0 col0\" >183</td>\n",
       "                        <td id=\"T_da98bc40_f530_11ea_b976_42010a8a0002row0_col1\" class=\"data row0 col1\" >$3.05</td>\n",
       "                        <td id=\"T_da98bc40_f530_11ea_b976_42010a8a0002row0_col2\" class=\"data row0 col2\" >780</td>\n",
       "                        <td id=\"T_da98bc40_f530_11ea_b976_42010a8a0002row0_col3\" class=\"data row0 col3\" >$2,379.77</td>\n",
       "            </tr>\n",
       "    </tbody></table>"
      ],
      "text/plain": [
       "<pandas.io.formats.style.Styler at 0x7fa712594150>"
      ]
     },
     "execution_count": 3,
     "metadata": {},
     "output_type": "execute_result"
    }
   ],
   "source": [
    "# Running basic calculations for number of unique items, average price, number of purchases, and total  revenue\n",
    "unique_items = len(purchase_data[\"Item ID\"].unique())\n",
    "average_price = purchase_data[\"Price\"].mean()\n",
    "number_purchase = purchase_data[\"Purchase ID\"].count()\n",
    "total_revenue = purchase_data[\"Price\"].sum()\n",
    "\n",
    "# Creating DataFrame for Purchasing Analysis (Total)\n",
    "df2 = pd.DataFrame(\n",
    "    {\n",
    "        \"Number of Unique Items\": [unique_items],\n",
    "        \"Average Price\": [average_price],\n",
    "        \"Number of Purchases\": [number_purchase],\n",
    "        \"Total Revenue\": [total_revenue],\n",
    "    }\n",
    ")\n",
    "\n",
    "# Formatting average price and total revenue for currency $\n",
    "df2.style.format({\"Average Price\": \"${:,.2f}\", \"Total Revenue\": \"${:,.2f}\"})"
   ]
  },
  {
   "cell_type": "markdown",
   "metadata": {},
   "source": [
    "## Gender Demographics"
   ]
  },
  {
   "cell_type": "markdown",
   "metadata": {},
   "source": [
    "* Percentage and Count of Male Players\n",
    "\n",
    "\n",
    "* Percentage and Count of Female Players\n",
    "\n",
    "\n",
    "* Percentage and Count of Other / Non-Disclosed\n",
    "\n",
    "\n"
   ]
  },
  {
   "cell_type": "code",
   "execution_count": 4,
   "metadata": {},
   "outputs": [
    {
     "data": {
      "text/html": [
       "<style  type=\"text/css\" >\n",
       "</style><table id=\"T_daa7d22a_f530_11ea_b976_42010a8a0002\" ><thead>    <tr>        <th class=\"blank level0\" ></th>        <th class=\"col_heading level0 col0\" >Total Count</th>        <th class=\"col_heading level0 col1\" >Percentage of Players</th>    </tr></thead><tbody>\n",
       "                <tr>\n",
       "                        <th id=\"T_daa7d22a_f530_11ea_b976_42010a8a0002level0_row0\" class=\"row_heading level0 row0\" >Male</th>\n",
       "                        <td id=\"T_daa7d22a_f530_11ea_b976_42010a8a0002row0_col0\" class=\"data row0 col0\" >484</td>\n",
       "                        <td id=\"T_daa7d22a_f530_11ea_b976_42010a8a0002row0_col1\" class=\"data row0 col1\" >84.03%</td>\n",
       "            </tr>\n",
       "            <tr>\n",
       "                        <th id=\"T_daa7d22a_f530_11ea_b976_42010a8a0002level0_row1\" class=\"row_heading level0 row1\" >Female</th>\n",
       "                        <td id=\"T_daa7d22a_f530_11ea_b976_42010a8a0002row1_col0\" class=\"data row1 col0\" >81</td>\n",
       "                        <td id=\"T_daa7d22a_f530_11ea_b976_42010a8a0002row1_col1\" class=\"data row1 col1\" >14.06%</td>\n",
       "            </tr>\n",
       "            <tr>\n",
       "                        <th id=\"T_daa7d22a_f530_11ea_b976_42010a8a0002level0_row2\" class=\"row_heading level0 row2\" >Other / Non-Disclosed</th>\n",
       "                        <td id=\"T_daa7d22a_f530_11ea_b976_42010a8a0002row2_col0\" class=\"data row2 col0\" >11</td>\n",
       "                        <td id=\"T_daa7d22a_f530_11ea_b976_42010a8a0002row2_col1\" class=\"data row2 col1\" >1.91%</td>\n",
       "            </tr>\n",
       "    </tbody></table>"
      ],
      "text/plain": [
       "<pandas.io.formats.style.Styler at 0x7fa71321bb10>"
      ]
     },
     "execution_count": 4,
     "metadata": {},
     "output_type": "execute_result"
    }
   ],
   "source": [
    "# Grouping purchase_data by gender\n",
    "gender_group = purchase_data.groupby([\"Gender\"])\n",
    "\n",
    "# Calculating count of unique screen names \"SN\", i.e. count of players by gender\n",
    "player_count_gender = gender_group[\"SN\"].nunique()\n",
    "\n",
    "# Calculating percentage of players by gender\n",
    "player_percent_gender = (player_count_gender / total_players) * 100\n",
    "\n",
    "# Creating DataFrame for Gender Demographics\n",
    "df3 = pd.DataFrame(\n",
    "    {\n",
    "        \"Total Count\": player_count_gender,\n",
    "        \"Percentage of Players\": player_percent_gender,\n",
    "    }\n",
    ")\n",
    "\n",
    "# Setting index, sorting by \"Total Count\" in descending order, and formatting percentage of players\n",
    "df3.index.name = None\n",
    "df3.sort_values([\"Total Count\"], ascending=False).style.format(\n",
    "    {\"Percentage of Players\": \"{:,.2f}%\"}\n",
    ")"
   ]
  },
  {
   "cell_type": "markdown",
   "metadata": {},
   "source": [
    "\n",
    "## Purchasing Analysis (Gender)"
   ]
  },
  {
   "cell_type": "markdown",
   "metadata": {},
   "source": [
    "* Run basic calculations to obtain purchase count, avg. purchase price, avg. purchase total per person etc. by gender\n",
    "\n",
    "\n",
    "\n",
    "\n",
    "* Create a summary data frame to hold the results\n",
    "\n",
    "\n",
    "* Optional: give the displayed data cleaner formatting\n",
    "\n",
    "\n",
    "* Display the summary data frame"
   ]
  },
  {
   "cell_type": "code",
   "execution_count": 5,
   "metadata": {},
   "outputs": [
    {
     "data": {
      "text/html": [
       "<style  type=\"text/css\" >\n",
       "</style><table id=\"T_dab40cfc_f530_11ea_b976_42010a8a0002\" ><thead>    <tr>        <th class=\"blank level0\" ></th>        <th class=\"col_heading level0 col0\" >Purchase Count</th>        <th class=\"col_heading level0 col1\" >Average Purchase Price</th>        <th class=\"col_heading level0 col2\" >Total Purchase Value</th>        <th class=\"col_heading level0 col3\" >Avg Total Purchase per Person</th>    </tr>    <tr>        <th class=\"index_name level0\" >Gender</th>        <th class=\"blank\" ></th>        <th class=\"blank\" ></th>        <th class=\"blank\" ></th>        <th class=\"blank\" ></th>    </tr></thead><tbody>\n",
       "                <tr>\n",
       "                        <th id=\"T_dab40cfc_f530_11ea_b976_42010a8a0002level0_row0\" class=\"row_heading level0 row0\" >Female</th>\n",
       "                        <td id=\"T_dab40cfc_f530_11ea_b976_42010a8a0002row0_col0\" class=\"data row0 col0\" >113</td>\n",
       "                        <td id=\"T_dab40cfc_f530_11ea_b976_42010a8a0002row0_col1\" class=\"data row0 col1\" >$3.20</td>\n",
       "                        <td id=\"T_dab40cfc_f530_11ea_b976_42010a8a0002row0_col2\" class=\"data row0 col2\" >$361.94</td>\n",
       "                        <td id=\"T_dab40cfc_f530_11ea_b976_42010a8a0002row0_col3\" class=\"data row0 col3\" >$4.47</td>\n",
       "            </tr>\n",
       "            <tr>\n",
       "                        <th id=\"T_dab40cfc_f530_11ea_b976_42010a8a0002level0_row1\" class=\"row_heading level0 row1\" >Male</th>\n",
       "                        <td id=\"T_dab40cfc_f530_11ea_b976_42010a8a0002row1_col0\" class=\"data row1 col0\" >652</td>\n",
       "                        <td id=\"T_dab40cfc_f530_11ea_b976_42010a8a0002row1_col1\" class=\"data row1 col1\" >$3.02</td>\n",
       "                        <td id=\"T_dab40cfc_f530_11ea_b976_42010a8a0002row1_col2\" class=\"data row1 col2\" >$1,967.64</td>\n",
       "                        <td id=\"T_dab40cfc_f530_11ea_b976_42010a8a0002row1_col3\" class=\"data row1 col3\" >$4.07</td>\n",
       "            </tr>\n",
       "            <tr>\n",
       "                        <th id=\"T_dab40cfc_f530_11ea_b976_42010a8a0002level0_row2\" class=\"row_heading level0 row2\" >Other / Non-Disclosed</th>\n",
       "                        <td id=\"T_dab40cfc_f530_11ea_b976_42010a8a0002row2_col0\" class=\"data row2 col0\" >15</td>\n",
       "                        <td id=\"T_dab40cfc_f530_11ea_b976_42010a8a0002row2_col1\" class=\"data row2 col1\" >$3.35</td>\n",
       "                        <td id=\"T_dab40cfc_f530_11ea_b976_42010a8a0002row2_col2\" class=\"data row2 col2\" >$50.19</td>\n",
       "                        <td id=\"T_dab40cfc_f530_11ea_b976_42010a8a0002row2_col3\" class=\"data row2 col3\" >$4.56</td>\n",
       "            </tr>\n",
       "    </tbody></table>"
      ],
      "text/plain": [
       "<pandas.io.formats.style.Styler at 0x7fa71227ec50>"
      ]
     },
     "execution_count": 5,
     "metadata": {},
     "output_type": "execute_result"
    }
   ],
   "source": [
    "# Running basic calculation for purchase count by gender\n",
    "purchase_count_gender = gender_group[\"Purchase ID\"].count()\n",
    "\n",
    "# Running basic calculation for average purchase price by gender\n",
    "average_price_gender = gender_group[\"Price\"].mean()\n",
    "\n",
    "# Running basic calculation for total purchase value by gender\n",
    "total_value_gender = gender_group[\"Price\"].sum()\n",
    "\n",
    "# Running basic calculation for average total purchase per person by gender\n",
    "avg_per_person_gender = total_value_gender / player_count_gender\n",
    "\n",
    "# Creating DataFrame for Purchasing Analysis (Gender)\n",
    "df4 = pd.DataFrame(\n",
    "    {\n",
    "        \"Purchase Count\": purchase_count_gender,\n",
    "        \"Average Purchase Price\": average_price_gender,\n",
    "        \"Total Purchase Value\": total_value_gender,\n",
    "        \"Avg Total Purchase per Person\": avg_per_person_gender,\n",
    "    }\n",
    ")\n",
    "\n",
    "# Setting index and formatting for currency $\n",
    "df4.index.name = \"Gender\"\n",
    "df4.style.format(\n",
    "    {\n",
    "        \"Average Purchase Price\": \"${:,.2f}\",\n",
    "        \"Total Purchase Value\": \"${:,.2f}\",\n",
    "        \"Avg Total Purchase per Person\": \"${:,.2f}\",\n",
    "    }\n",
    ")"
   ]
  },
  {
   "cell_type": "markdown",
   "metadata": {},
   "source": [
    "## Age Demographics"
   ]
  },
  {
   "cell_type": "markdown",
   "metadata": {},
   "source": [
    "* Establish bins for ages\n",
    "\n",
    "\n",
    "* Categorize the existing players using the age bins. Hint: use pd.cut()\n",
    "\n",
    "\n",
    "* Calculate the numbers and percentages by age group\n",
    "\n",
    "\n",
    "* Create a summary data frame to hold the results\n",
    "\n",
    "\n",
    "* Optional: round the percentage column to two decimal points\n",
    "\n",
    "\n",
    "* Display Age Demographics Table\n"
   ]
  },
  {
   "cell_type": "code",
   "execution_count": 6,
   "metadata": {},
   "outputs": [
    {
     "data": {
      "text/html": [
       "<style  type=\"text/css\" >\n",
       "</style><table id=\"T_dabe806a_f530_11ea_b976_42010a8a0002\" ><thead>    <tr>        <th class=\"blank level0\" ></th>        <th class=\"col_heading level0 col0\" >Total Count</th>        <th class=\"col_heading level0 col1\" >Percentage of Players</th>    </tr></thead><tbody>\n",
       "                <tr>\n",
       "                        <th id=\"T_dabe806a_f530_11ea_b976_42010a8a0002level0_row0\" class=\"row_heading level0 row0\" ><10</th>\n",
       "                        <td id=\"T_dabe806a_f530_11ea_b976_42010a8a0002row0_col0\" class=\"data row0 col0\" >17</td>\n",
       "                        <td id=\"T_dabe806a_f530_11ea_b976_42010a8a0002row0_col1\" class=\"data row0 col1\" >2.95%</td>\n",
       "            </tr>\n",
       "            <tr>\n",
       "                        <th id=\"T_dabe806a_f530_11ea_b976_42010a8a0002level0_row1\" class=\"row_heading level0 row1\" >10-14</th>\n",
       "                        <td id=\"T_dabe806a_f530_11ea_b976_42010a8a0002row1_col0\" class=\"data row1 col0\" >22</td>\n",
       "                        <td id=\"T_dabe806a_f530_11ea_b976_42010a8a0002row1_col1\" class=\"data row1 col1\" >3.82%</td>\n",
       "            </tr>\n",
       "            <tr>\n",
       "                        <th id=\"T_dabe806a_f530_11ea_b976_42010a8a0002level0_row2\" class=\"row_heading level0 row2\" >15-19</th>\n",
       "                        <td id=\"T_dabe806a_f530_11ea_b976_42010a8a0002row2_col0\" class=\"data row2 col0\" >107</td>\n",
       "                        <td id=\"T_dabe806a_f530_11ea_b976_42010a8a0002row2_col1\" class=\"data row2 col1\" >18.58%</td>\n",
       "            </tr>\n",
       "            <tr>\n",
       "                        <th id=\"T_dabe806a_f530_11ea_b976_42010a8a0002level0_row3\" class=\"row_heading level0 row3\" >20-24</th>\n",
       "                        <td id=\"T_dabe806a_f530_11ea_b976_42010a8a0002row3_col0\" class=\"data row3 col0\" >258</td>\n",
       "                        <td id=\"T_dabe806a_f530_11ea_b976_42010a8a0002row3_col1\" class=\"data row3 col1\" >44.79%</td>\n",
       "            </tr>\n",
       "            <tr>\n",
       "                        <th id=\"T_dabe806a_f530_11ea_b976_42010a8a0002level0_row4\" class=\"row_heading level0 row4\" >25-29</th>\n",
       "                        <td id=\"T_dabe806a_f530_11ea_b976_42010a8a0002row4_col0\" class=\"data row4 col0\" >77</td>\n",
       "                        <td id=\"T_dabe806a_f530_11ea_b976_42010a8a0002row4_col1\" class=\"data row4 col1\" >13.37%</td>\n",
       "            </tr>\n",
       "            <tr>\n",
       "                        <th id=\"T_dabe806a_f530_11ea_b976_42010a8a0002level0_row5\" class=\"row_heading level0 row5\" >30-34</th>\n",
       "                        <td id=\"T_dabe806a_f530_11ea_b976_42010a8a0002row5_col0\" class=\"data row5 col0\" >52</td>\n",
       "                        <td id=\"T_dabe806a_f530_11ea_b976_42010a8a0002row5_col1\" class=\"data row5 col1\" >9.03%</td>\n",
       "            </tr>\n",
       "            <tr>\n",
       "                        <th id=\"T_dabe806a_f530_11ea_b976_42010a8a0002level0_row6\" class=\"row_heading level0 row6\" >35-39</th>\n",
       "                        <td id=\"T_dabe806a_f530_11ea_b976_42010a8a0002row6_col0\" class=\"data row6 col0\" >31</td>\n",
       "                        <td id=\"T_dabe806a_f530_11ea_b976_42010a8a0002row6_col1\" class=\"data row6 col1\" >5.38%</td>\n",
       "            </tr>\n",
       "            <tr>\n",
       "                        <th id=\"T_dabe806a_f530_11ea_b976_42010a8a0002level0_row7\" class=\"row_heading level0 row7\" >40+</th>\n",
       "                        <td id=\"T_dabe806a_f530_11ea_b976_42010a8a0002row7_col0\" class=\"data row7 col0\" >12</td>\n",
       "                        <td id=\"T_dabe806a_f530_11ea_b976_42010a8a0002row7_col1\" class=\"data row7 col1\" >2.08%</td>\n",
       "            </tr>\n",
       "    </tbody></table>"
      ],
      "text/plain": [
       "<pandas.io.formats.style.Styler at 0x7fa712234090>"
      ]
     },
     "execution_count": 6,
     "metadata": {},
     "output_type": "execute_result"
    }
   ],
   "source": [
    "# Creating bins for ages\n",
    "age_bins = [0, 9.90, 14.90, 19.90, 24.90, 29.90, 34.90, 39.90, 9999]\n",
    "age_labels = [\"<10\", \"10-14\", \"15-19\", \"20-24\", \"25-29\", \"30-34\", \"35-39\", \"40+\"]\n",
    "\n",
    "# Assigning and sorting age data into age_bins and age_labels\n",
    "purchase_data[\"Age Ranges\"] = pd.cut(purchase_data[\"Age\"], age_bins, labels=age_labels)\n",
    "\n",
    "# Grouping updated purchase_data by age\n",
    "age_group = purchase_data.groupby([\"Age Ranges\"])\n",
    "\n",
    "# Calculating total number of players by age\n",
    "player_count_age = age_group[\"SN\"].nunique()\n",
    "\n",
    "# Calculating percentage of players by age\n",
    "player_percent_age = (player_count_age / total_players) * 100\n",
    "\n",
    "# Creating DataFrame for Age Demographics\n",
    "df5 = pd.DataFrame(\n",
    "    {\"Total Count\": player_count_age, \"Percentage of Players\": player_percent_age,}\n",
    ")\n",
    "\n",
    "# Setting index and formatting percentage of players\n",
    "df5.index.name = None\n",
    "df5.style.format({\"Percentage of Players\": \"{:,.2f}%\"})"
   ]
  },
  {
   "cell_type": "markdown",
   "metadata": {},
   "source": [
    "## Purchasing Analysis (Age)"
   ]
  },
  {
   "cell_type": "markdown",
   "metadata": {},
   "source": [
    "* Bin the purchase_data data frame by age\n",
    "\n",
    "\n",
    "* Run basic calculations to obtain purchase count, avg. purchase price, avg. purchase total per person etc. in the table below\n",
    "\n",
    "\n",
    "* Create a summary data frame to hold the results\n",
    "\n",
    "\n",
    "* Optional: give the displayed data cleaner formatting\n",
    "\n",
    "\n",
    "* Display the summary data frame"
   ]
  },
  {
   "cell_type": "code",
   "execution_count": 7,
   "metadata": {},
   "outputs": [
    {
     "data": {
      "text/html": [
       "<style  type=\"text/css\" >\n",
       "</style><table id=\"T_daccb964_f530_11ea_b976_42010a8a0002\" ><thead>    <tr>        <th class=\"blank level0\" ></th>        <th class=\"col_heading level0 col0\" >Purchase Count</th>        <th class=\"col_heading level0 col1\" >Average Purchase Price</th>        <th class=\"col_heading level0 col2\" >Total Purchase Value</th>        <th class=\"col_heading level0 col3\" >Avg Total Purchase per Person</th>    </tr>    <tr>        <th class=\"index_name level0\" >Age Ranges</th>        <th class=\"blank\" ></th>        <th class=\"blank\" ></th>        <th class=\"blank\" ></th>        <th class=\"blank\" ></th>    </tr></thead><tbody>\n",
       "                <tr>\n",
       "                        <th id=\"T_daccb964_f530_11ea_b976_42010a8a0002level0_row0\" class=\"row_heading level0 row0\" ><10</th>\n",
       "                        <td id=\"T_daccb964_f530_11ea_b976_42010a8a0002row0_col0\" class=\"data row0 col0\" >23</td>\n",
       "                        <td id=\"T_daccb964_f530_11ea_b976_42010a8a0002row0_col1\" class=\"data row0 col1\" >$3.35</td>\n",
       "                        <td id=\"T_daccb964_f530_11ea_b976_42010a8a0002row0_col2\" class=\"data row0 col2\" >$77.13</td>\n",
       "                        <td id=\"T_daccb964_f530_11ea_b976_42010a8a0002row0_col3\" class=\"data row0 col3\" >$4.54</td>\n",
       "            </tr>\n",
       "            <tr>\n",
       "                        <th id=\"T_daccb964_f530_11ea_b976_42010a8a0002level0_row1\" class=\"row_heading level0 row1\" >10-14</th>\n",
       "                        <td id=\"T_daccb964_f530_11ea_b976_42010a8a0002row1_col0\" class=\"data row1 col0\" >28</td>\n",
       "                        <td id=\"T_daccb964_f530_11ea_b976_42010a8a0002row1_col1\" class=\"data row1 col1\" >$2.96</td>\n",
       "                        <td id=\"T_daccb964_f530_11ea_b976_42010a8a0002row1_col2\" class=\"data row1 col2\" >$82.78</td>\n",
       "                        <td id=\"T_daccb964_f530_11ea_b976_42010a8a0002row1_col3\" class=\"data row1 col3\" >$3.76</td>\n",
       "            </tr>\n",
       "            <tr>\n",
       "                        <th id=\"T_daccb964_f530_11ea_b976_42010a8a0002level0_row2\" class=\"row_heading level0 row2\" >15-19</th>\n",
       "                        <td id=\"T_daccb964_f530_11ea_b976_42010a8a0002row2_col0\" class=\"data row2 col0\" >136</td>\n",
       "                        <td id=\"T_daccb964_f530_11ea_b976_42010a8a0002row2_col1\" class=\"data row2 col1\" >$3.04</td>\n",
       "                        <td id=\"T_daccb964_f530_11ea_b976_42010a8a0002row2_col2\" class=\"data row2 col2\" >$412.89</td>\n",
       "                        <td id=\"T_daccb964_f530_11ea_b976_42010a8a0002row2_col3\" class=\"data row2 col3\" >$3.86</td>\n",
       "            </tr>\n",
       "            <tr>\n",
       "                        <th id=\"T_daccb964_f530_11ea_b976_42010a8a0002level0_row3\" class=\"row_heading level0 row3\" >20-24</th>\n",
       "                        <td id=\"T_daccb964_f530_11ea_b976_42010a8a0002row3_col0\" class=\"data row3 col0\" >365</td>\n",
       "                        <td id=\"T_daccb964_f530_11ea_b976_42010a8a0002row3_col1\" class=\"data row3 col1\" >$3.05</td>\n",
       "                        <td id=\"T_daccb964_f530_11ea_b976_42010a8a0002row3_col2\" class=\"data row3 col2\" >$1,114.06</td>\n",
       "                        <td id=\"T_daccb964_f530_11ea_b976_42010a8a0002row3_col3\" class=\"data row3 col3\" >$4.32</td>\n",
       "            </tr>\n",
       "            <tr>\n",
       "                        <th id=\"T_daccb964_f530_11ea_b976_42010a8a0002level0_row4\" class=\"row_heading level0 row4\" >25-29</th>\n",
       "                        <td id=\"T_daccb964_f530_11ea_b976_42010a8a0002row4_col0\" class=\"data row4 col0\" >101</td>\n",
       "                        <td id=\"T_daccb964_f530_11ea_b976_42010a8a0002row4_col1\" class=\"data row4 col1\" >$2.90</td>\n",
       "                        <td id=\"T_daccb964_f530_11ea_b976_42010a8a0002row4_col2\" class=\"data row4 col2\" >$293.00</td>\n",
       "                        <td id=\"T_daccb964_f530_11ea_b976_42010a8a0002row4_col3\" class=\"data row4 col3\" >$3.81</td>\n",
       "            </tr>\n",
       "            <tr>\n",
       "                        <th id=\"T_daccb964_f530_11ea_b976_42010a8a0002level0_row5\" class=\"row_heading level0 row5\" >30-34</th>\n",
       "                        <td id=\"T_daccb964_f530_11ea_b976_42010a8a0002row5_col0\" class=\"data row5 col0\" >73</td>\n",
       "                        <td id=\"T_daccb964_f530_11ea_b976_42010a8a0002row5_col1\" class=\"data row5 col1\" >$2.93</td>\n",
       "                        <td id=\"T_daccb964_f530_11ea_b976_42010a8a0002row5_col2\" class=\"data row5 col2\" >$214.00</td>\n",
       "                        <td id=\"T_daccb964_f530_11ea_b976_42010a8a0002row5_col3\" class=\"data row5 col3\" >$4.12</td>\n",
       "            </tr>\n",
       "            <tr>\n",
       "                        <th id=\"T_daccb964_f530_11ea_b976_42010a8a0002level0_row6\" class=\"row_heading level0 row6\" >35-39</th>\n",
       "                        <td id=\"T_daccb964_f530_11ea_b976_42010a8a0002row6_col0\" class=\"data row6 col0\" >41</td>\n",
       "                        <td id=\"T_daccb964_f530_11ea_b976_42010a8a0002row6_col1\" class=\"data row6 col1\" >$3.60</td>\n",
       "                        <td id=\"T_daccb964_f530_11ea_b976_42010a8a0002row6_col2\" class=\"data row6 col2\" >$147.67</td>\n",
       "                        <td id=\"T_daccb964_f530_11ea_b976_42010a8a0002row6_col3\" class=\"data row6 col3\" >$4.76</td>\n",
       "            </tr>\n",
       "            <tr>\n",
       "                        <th id=\"T_daccb964_f530_11ea_b976_42010a8a0002level0_row7\" class=\"row_heading level0 row7\" >40+</th>\n",
       "                        <td id=\"T_daccb964_f530_11ea_b976_42010a8a0002row7_col0\" class=\"data row7 col0\" >13</td>\n",
       "                        <td id=\"T_daccb964_f530_11ea_b976_42010a8a0002row7_col1\" class=\"data row7 col1\" >$2.94</td>\n",
       "                        <td id=\"T_daccb964_f530_11ea_b976_42010a8a0002row7_col2\" class=\"data row7 col2\" >$38.24</td>\n",
       "                        <td id=\"T_daccb964_f530_11ea_b976_42010a8a0002row7_col3\" class=\"data row7 col3\" >$3.19</td>\n",
       "            </tr>\n",
       "    </tbody></table>"
      ],
      "text/plain": [
       "<pandas.io.formats.style.Styler at 0x7fa7121e6b90>"
      ]
     },
     "execution_count": 7,
     "metadata": {},
     "output_type": "execute_result"
    }
   ],
   "source": [
    "# Running basic calculation for purchase count by age\n",
    "purchase_count_age = age_group[\"Purchase ID\"].count()\n",
    "\n",
    "# Running basic calculation for average purchase price by age\n",
    "average_price_age = age_group[\"Price\"].mean()\n",
    "\n",
    "# Running basic calculation for total purchase value by age\n",
    "total_value_age = age_group[\"Price\"].sum()\n",
    "\n",
    "# Running basic calculation for average total purchase per person by age\n",
    "average_per_person_age = total_value_age / player_count_age\n",
    "\n",
    "# Creating DataFrame for Purchasing Analysis (Age)\n",
    "df6 = pd.DataFrame(\n",
    "    {\n",
    "        \"Purchase Count\": purchase_count_age,\n",
    "        \"Average Purchase Price\": average_price_age,\n",
    "        \"Total Purchase Value\": total_value_age,\n",
    "        \"Avg Total Purchase per Person\": average_per_person_age,\n",
    "    }\n",
    ")\n",
    "\n",
    "# Setting index and formatting for currency $\n",
    "df6.index.name = \"Age Ranges\"\n",
    "df6.style.format(\n",
    "    {\n",
    "        \"Average Purchase Price\": \"${:,.2f}\",\n",
    "        \"Total Purchase Value\": \"${:,.2f}\",\n",
    "        \"Avg Total Purchase per Person\": \"${:,.2f}\",\n",
    "    }\n",
    ")"
   ]
  },
  {
   "cell_type": "markdown",
   "metadata": {},
   "source": [
    "## Top Spenders"
   ]
  },
  {
   "cell_type": "markdown",
   "metadata": {},
   "source": [
    "* Run basic calculations to obtain the results in the table below\n",
    "\n",
    "\n",
    "* Create a summary data frame to hold the results\n",
    "\n",
    "\n",
    "* Sort the total purchase value column in descending order\n",
    "\n",
    "\n",
    "* Optional: give the displayed data cleaner formatting\n",
    "\n",
    "\n",
    "* Display a preview of the summary data frame\n",
    "\n"
   ]
  },
  {
   "cell_type": "code",
   "execution_count": 8,
   "metadata": {},
   "outputs": [
    {
     "data": {
      "text/html": [
       "<style  type=\"text/css\" >\n",
       "</style><table id=\"T_dad6753a_f530_11ea_b976_42010a8a0002\" ><thead>    <tr>        <th class=\"blank level0\" ></th>        <th class=\"col_heading level0 col0\" >Purchase Count</th>        <th class=\"col_heading level0 col1\" >Average Purchase Price</th>        <th class=\"col_heading level0 col2\" >Total Purchase Value</th>    </tr>    <tr>        <th class=\"index_name level0\" >SN</th>        <th class=\"blank\" ></th>        <th class=\"blank\" ></th>        <th class=\"blank\" ></th>    </tr></thead><tbody>\n",
       "                <tr>\n",
       "                        <th id=\"T_dad6753a_f530_11ea_b976_42010a8a0002level0_row0\" class=\"row_heading level0 row0\" >Lisosia93</th>\n",
       "                        <td id=\"T_dad6753a_f530_11ea_b976_42010a8a0002row0_col0\" class=\"data row0 col0\" >5</td>\n",
       "                        <td id=\"T_dad6753a_f530_11ea_b976_42010a8a0002row0_col1\" class=\"data row0 col1\" >$3.79</td>\n",
       "                        <td id=\"T_dad6753a_f530_11ea_b976_42010a8a0002row0_col2\" class=\"data row0 col2\" >$18.96</td>\n",
       "            </tr>\n",
       "            <tr>\n",
       "                        <th id=\"T_dad6753a_f530_11ea_b976_42010a8a0002level0_row1\" class=\"row_heading level0 row1\" >Idastidru52</th>\n",
       "                        <td id=\"T_dad6753a_f530_11ea_b976_42010a8a0002row1_col0\" class=\"data row1 col0\" >4</td>\n",
       "                        <td id=\"T_dad6753a_f530_11ea_b976_42010a8a0002row1_col1\" class=\"data row1 col1\" >$3.86</td>\n",
       "                        <td id=\"T_dad6753a_f530_11ea_b976_42010a8a0002row1_col2\" class=\"data row1 col2\" >$15.45</td>\n",
       "            </tr>\n",
       "            <tr>\n",
       "                        <th id=\"T_dad6753a_f530_11ea_b976_42010a8a0002level0_row2\" class=\"row_heading level0 row2\" >Chamjask73</th>\n",
       "                        <td id=\"T_dad6753a_f530_11ea_b976_42010a8a0002row2_col0\" class=\"data row2 col0\" >3</td>\n",
       "                        <td id=\"T_dad6753a_f530_11ea_b976_42010a8a0002row2_col1\" class=\"data row2 col1\" >$4.61</td>\n",
       "                        <td id=\"T_dad6753a_f530_11ea_b976_42010a8a0002row2_col2\" class=\"data row2 col2\" >$13.83</td>\n",
       "            </tr>\n",
       "            <tr>\n",
       "                        <th id=\"T_dad6753a_f530_11ea_b976_42010a8a0002level0_row3\" class=\"row_heading level0 row3\" >Iral74</th>\n",
       "                        <td id=\"T_dad6753a_f530_11ea_b976_42010a8a0002row3_col0\" class=\"data row3 col0\" >4</td>\n",
       "                        <td id=\"T_dad6753a_f530_11ea_b976_42010a8a0002row3_col1\" class=\"data row3 col1\" >$3.40</td>\n",
       "                        <td id=\"T_dad6753a_f530_11ea_b976_42010a8a0002row3_col2\" class=\"data row3 col2\" >$13.62</td>\n",
       "            </tr>\n",
       "            <tr>\n",
       "                        <th id=\"T_dad6753a_f530_11ea_b976_42010a8a0002level0_row4\" class=\"row_heading level0 row4\" >Iskadarya95</th>\n",
       "                        <td id=\"T_dad6753a_f530_11ea_b976_42010a8a0002row4_col0\" class=\"data row4 col0\" >3</td>\n",
       "                        <td id=\"T_dad6753a_f530_11ea_b976_42010a8a0002row4_col1\" class=\"data row4 col1\" >$4.37</td>\n",
       "                        <td id=\"T_dad6753a_f530_11ea_b976_42010a8a0002row4_col2\" class=\"data row4 col2\" >$13.10</td>\n",
       "            </tr>\n",
       "    </tbody></table>"
      ],
      "text/plain": [
       "<pandas.io.formats.style.Styler at 0x7fa712234450>"
      ]
     },
     "execution_count": 8,
     "metadata": {},
     "output_type": "execute_result"
    }
   ],
   "source": [
    "# Grouping purchase_data by screen names (\"SN\")\n",
    "sn_group = purchase_data.groupby(\"SN\")\n",
    "\n",
    "# Calculating purchase count by \"SN\"\n",
    "purchase_count_sn = sn_group[\"Purchase ID\"].count()\n",
    "\n",
    "# Calculating average purchase price by \"SN\"\n",
    "average_price_sn = sn_group[\"Price\"].mean()\n",
    "\n",
    "# Calculating total purchase value by \"SN\"\n",
    "total_value_sn = sn_group[\"Price\"].sum()\n",
    "\n",
    "# Creating DataFrame for Top Spenders\n",
    "df7 = pd.DataFrame(\n",
    "    {\n",
    "        \"Purchase Count\": purchase_count_sn,\n",
    "        \"Average Purchase Price\": average_price_sn,\n",
    "        \"Total Purchase Value\": total_value_sn,\n",
    "    }\n",
    ")\n",
    "\n",
    "# sorting top 5 spenders by \"Total Purchase Value\" in descending order and formatting for currency $\n",
    "df7.sort_values([\"Total Purchase Value\"], ascending=False).head(5).style.format(\n",
    "    {\n",
    "        \"Average Purchase Total\": \"${:,.2f}\",\n",
    "        \"Average Purchase Price\": \"${:,.2f}\",\n",
    "        \"Total Purchase Value\": \"${:,.2f}\",\n",
    "    }\n",
    ")"
   ]
  },
  {
   "cell_type": "markdown",
   "metadata": {},
   "source": [
    "## Most Popular Items"
   ]
  },
  {
   "cell_type": "markdown",
   "metadata": {},
   "source": [
    "* Retrieve the Item ID, Item Name, and Item Price columns\n",
    "\n",
    "\n",
    "* Group by Item ID and Item Name. Perform calculations to obtain purchase count, item price, and total purchase value\n",
    "\n",
    "\n",
    "* Create a summary data frame to hold the results\n",
    "\n",
    "\n",
    "* Sort the purchase count column in descending order\n",
    "\n",
    "\n",
    "* Optional: give the displayed data cleaner formatting\n",
    "\n",
    "\n",
    "* Display a preview of the summary data frame\n",
    "\n"
   ]
  },
  {
   "cell_type": "code",
   "execution_count": 9,
   "metadata": {},
   "outputs": [
    {
     "data": {
      "text/html": [
       "<style  type=\"text/css\" >\n",
       "</style><table id=\"T_dae2b836_f530_11ea_b976_42010a8a0002\" ><thead>    <tr>        <th class=\"blank\" ></th>        <th class=\"blank level0\" ></th>        <th class=\"col_heading level0 col0\" >Purchase Count</th>        <th class=\"col_heading level0 col1\" >Item Price</th>        <th class=\"col_heading level0 col2\" >Total Purchase Value</th>    </tr>    <tr>        <th class=\"index_name level0\" >Item ID</th>        <th class=\"index_name level1\" >Item Name</th>        <th class=\"blank\" ></th>        <th class=\"blank\" ></th>        <th class=\"blank\" ></th>    </tr></thead><tbody>\n",
       "                <tr>\n",
       "                        <th id=\"T_dae2b836_f530_11ea_b976_42010a8a0002level0_row0\" class=\"row_heading level0 row0\" >178</th>\n",
       "                        <th id=\"T_dae2b836_f530_11ea_b976_42010a8a0002level1_row0\" class=\"row_heading level1 row0\" >Oathbreaker, Last Hope of the Breaking Storm</th>\n",
       "                        <td id=\"T_dae2b836_f530_11ea_b976_42010a8a0002row0_col0\" class=\"data row0 col0\" >12</td>\n",
       "                        <td id=\"T_dae2b836_f530_11ea_b976_42010a8a0002row0_col1\" class=\"data row0 col1\" >$4.23</td>\n",
       "                        <td id=\"T_dae2b836_f530_11ea_b976_42010a8a0002row0_col2\" class=\"data row0 col2\" >$50.76</td>\n",
       "            </tr>\n",
       "            <tr>\n",
       "                        <th id=\"T_dae2b836_f530_11ea_b976_42010a8a0002level0_row1\" class=\"row_heading level0 row1\" >145</th>\n",
       "                        <th id=\"T_dae2b836_f530_11ea_b976_42010a8a0002level1_row1\" class=\"row_heading level1 row1\" >Fiery Glass Crusader</th>\n",
       "                        <td id=\"T_dae2b836_f530_11ea_b976_42010a8a0002row1_col0\" class=\"data row1 col0\" >9</td>\n",
       "                        <td id=\"T_dae2b836_f530_11ea_b976_42010a8a0002row1_col1\" class=\"data row1 col1\" >$4.58</td>\n",
       "                        <td id=\"T_dae2b836_f530_11ea_b976_42010a8a0002row1_col2\" class=\"data row1 col2\" >$41.22</td>\n",
       "            </tr>\n",
       "            <tr>\n",
       "                        <th id=\"T_dae2b836_f530_11ea_b976_42010a8a0002level0_row2\" class=\"row_heading level0 row2\" >108</th>\n",
       "                        <th id=\"T_dae2b836_f530_11ea_b976_42010a8a0002level1_row2\" class=\"row_heading level1 row2\" >Extraction, Quickblade Of Trembling Hands</th>\n",
       "                        <td id=\"T_dae2b836_f530_11ea_b976_42010a8a0002row2_col0\" class=\"data row2 col0\" >9</td>\n",
       "                        <td id=\"T_dae2b836_f530_11ea_b976_42010a8a0002row2_col1\" class=\"data row2 col1\" >$3.53</td>\n",
       "                        <td id=\"T_dae2b836_f530_11ea_b976_42010a8a0002row2_col2\" class=\"data row2 col2\" >$31.77</td>\n",
       "            </tr>\n",
       "            <tr>\n",
       "                        <th id=\"T_dae2b836_f530_11ea_b976_42010a8a0002level0_row3\" class=\"row_heading level0 row3\" >82</th>\n",
       "                        <th id=\"T_dae2b836_f530_11ea_b976_42010a8a0002level1_row3\" class=\"row_heading level1 row3\" >Nirvana</th>\n",
       "                        <td id=\"T_dae2b836_f530_11ea_b976_42010a8a0002row3_col0\" class=\"data row3 col0\" >9</td>\n",
       "                        <td id=\"T_dae2b836_f530_11ea_b976_42010a8a0002row3_col1\" class=\"data row3 col1\" >$4.90</td>\n",
       "                        <td id=\"T_dae2b836_f530_11ea_b976_42010a8a0002row3_col2\" class=\"data row3 col2\" >$44.10</td>\n",
       "            </tr>\n",
       "            <tr>\n",
       "                        <th id=\"T_dae2b836_f530_11ea_b976_42010a8a0002level0_row4\" class=\"row_heading level0 row4\" >19</th>\n",
       "                        <th id=\"T_dae2b836_f530_11ea_b976_42010a8a0002level1_row4\" class=\"row_heading level1 row4\" >Pursuit, Cudgel of Necromancy</th>\n",
       "                        <td id=\"T_dae2b836_f530_11ea_b976_42010a8a0002row4_col0\" class=\"data row4 col0\" >8</td>\n",
       "                        <td id=\"T_dae2b836_f530_11ea_b976_42010a8a0002row4_col1\" class=\"data row4 col1\" >$1.02</td>\n",
       "                        <td id=\"T_dae2b836_f530_11ea_b976_42010a8a0002row4_col2\" class=\"data row4 col2\" >$8.16</td>\n",
       "            </tr>\n",
       "    </tbody></table>"
      ],
      "text/plain": [
       "<pandas.io.formats.style.Styler at 0x7fa71228d250>"
      ]
     },
     "execution_count": 9,
     "metadata": {},
     "output_type": "execute_result"
    }
   ],
   "source": [
    "# Grouping purchase_data by item ID and item name\n",
    "item_group = purchase_data.groupby([\"Item ID\", \"Item Name\"])\n",
    "\n",
    "# Calculating item purchase count\n",
    "item_purchase_count = item_group[\"SN\"].count()\n",
    "\n",
    "# Calculating item total purchase value\n",
    "item_total_value = item_group[\"Price\"].sum()\n",
    "\n",
    "# Calculating item price\n",
    "item_price = item_total_value / item_purchase_count\n",
    "\n",
    "# Creating DataFrame for Most Popular Items\n",
    "df8 = pd.DataFrame(\n",
    "    {\n",
    "        \"Purchase Count\": item_purchase_count,\n",
    "        \"Item Price\": item_price,\n",
    "        \"Total Purchase Value\": item_total_value,\n",
    "    }\n",
    ")\n",
    "\n",
    "# Sorting 5 most popular items by \"Purchase Count\" in descending order and formatting for currency $\n",
    "df8.sort_values([\"Purchase Count\"], ascending=False).head(5).style.format(\n",
    "    {\"Item Price\": \"${:,.2f}\", \"Total Purchase Value\": \"${:,.2f}\"}\n",
    ")"
   ]
  },
  {
   "cell_type": "markdown",
   "metadata": {},
   "source": [
    "## Most Profitable Items"
   ]
  },
  {
   "cell_type": "markdown",
   "metadata": {},
   "source": [
    "* Sort the above table by total purchase value in descending order\n",
    "\n",
    "\n",
    "* Optional: give the displayed data cleaner formatting\n",
    "\n",
    "\n",
    "* Display a preview of the data frame\n",
    "\n"
   ]
  },
  {
   "cell_type": "code",
   "execution_count": 10,
   "metadata": {
    "scrolled": true
   },
   "outputs": [
    {
     "data": {
      "text/html": [
       "<style  type=\"text/css\" >\n",
       "</style><table id=\"T_daea4b32_f530_11ea_b976_42010a8a0002\" ><thead>    <tr>        <th class=\"blank\" ></th>        <th class=\"blank level0\" ></th>        <th class=\"col_heading level0 col0\" >Purchase Count</th>        <th class=\"col_heading level0 col1\" >Item Price</th>        <th class=\"col_heading level0 col2\" >Total Purchase Value</th>    </tr>    <tr>        <th class=\"index_name level0\" >Item ID</th>        <th class=\"index_name level1\" >Item Name</th>        <th class=\"blank\" ></th>        <th class=\"blank\" ></th>        <th class=\"blank\" ></th>    </tr></thead><tbody>\n",
       "                <tr>\n",
       "                        <th id=\"T_daea4b32_f530_11ea_b976_42010a8a0002level0_row0\" class=\"row_heading level0 row0\" >178</th>\n",
       "                        <th id=\"T_daea4b32_f530_11ea_b976_42010a8a0002level1_row0\" class=\"row_heading level1 row0\" >Oathbreaker, Last Hope of the Breaking Storm</th>\n",
       "                        <td id=\"T_daea4b32_f530_11ea_b976_42010a8a0002row0_col0\" class=\"data row0 col0\" >12</td>\n",
       "                        <td id=\"T_daea4b32_f530_11ea_b976_42010a8a0002row0_col1\" class=\"data row0 col1\" >$4.23</td>\n",
       "                        <td id=\"T_daea4b32_f530_11ea_b976_42010a8a0002row0_col2\" class=\"data row0 col2\" >$50.76</td>\n",
       "            </tr>\n",
       "            <tr>\n",
       "                        <th id=\"T_daea4b32_f530_11ea_b976_42010a8a0002level0_row1\" class=\"row_heading level0 row1\" >82</th>\n",
       "                        <th id=\"T_daea4b32_f530_11ea_b976_42010a8a0002level1_row1\" class=\"row_heading level1 row1\" >Nirvana</th>\n",
       "                        <td id=\"T_daea4b32_f530_11ea_b976_42010a8a0002row1_col0\" class=\"data row1 col0\" >9</td>\n",
       "                        <td id=\"T_daea4b32_f530_11ea_b976_42010a8a0002row1_col1\" class=\"data row1 col1\" >$4.90</td>\n",
       "                        <td id=\"T_daea4b32_f530_11ea_b976_42010a8a0002row1_col2\" class=\"data row1 col2\" >$44.10</td>\n",
       "            </tr>\n",
       "            <tr>\n",
       "                        <th id=\"T_daea4b32_f530_11ea_b976_42010a8a0002level0_row2\" class=\"row_heading level0 row2\" >145</th>\n",
       "                        <th id=\"T_daea4b32_f530_11ea_b976_42010a8a0002level1_row2\" class=\"row_heading level1 row2\" >Fiery Glass Crusader</th>\n",
       "                        <td id=\"T_daea4b32_f530_11ea_b976_42010a8a0002row2_col0\" class=\"data row2 col0\" >9</td>\n",
       "                        <td id=\"T_daea4b32_f530_11ea_b976_42010a8a0002row2_col1\" class=\"data row2 col1\" >$4.58</td>\n",
       "                        <td id=\"T_daea4b32_f530_11ea_b976_42010a8a0002row2_col2\" class=\"data row2 col2\" >$41.22</td>\n",
       "            </tr>\n",
       "            <tr>\n",
       "                        <th id=\"T_daea4b32_f530_11ea_b976_42010a8a0002level0_row3\" class=\"row_heading level0 row3\" >92</th>\n",
       "                        <th id=\"T_daea4b32_f530_11ea_b976_42010a8a0002level1_row3\" class=\"row_heading level1 row3\" >Final Critic</th>\n",
       "                        <td id=\"T_daea4b32_f530_11ea_b976_42010a8a0002row3_col0\" class=\"data row3 col0\" >8</td>\n",
       "                        <td id=\"T_daea4b32_f530_11ea_b976_42010a8a0002row3_col1\" class=\"data row3 col1\" >$4.88</td>\n",
       "                        <td id=\"T_daea4b32_f530_11ea_b976_42010a8a0002row3_col2\" class=\"data row3 col2\" >$39.04</td>\n",
       "            </tr>\n",
       "            <tr>\n",
       "                        <th id=\"T_daea4b32_f530_11ea_b976_42010a8a0002level0_row4\" class=\"row_heading level0 row4\" >103</th>\n",
       "                        <th id=\"T_daea4b32_f530_11ea_b976_42010a8a0002level1_row4\" class=\"row_heading level1 row4\" >Singed Scalpel</th>\n",
       "                        <td id=\"T_daea4b32_f530_11ea_b976_42010a8a0002row4_col0\" class=\"data row4 col0\" >8</td>\n",
       "                        <td id=\"T_daea4b32_f530_11ea_b976_42010a8a0002row4_col1\" class=\"data row4 col1\" >$4.35</td>\n",
       "                        <td id=\"T_daea4b32_f530_11ea_b976_42010a8a0002row4_col2\" class=\"data row4 col2\" >$34.80</td>\n",
       "            </tr>\n",
       "    </tbody></table>"
      ],
      "text/plain": [
       "<pandas.io.formats.style.Styler at 0x7fa712331390>"
      ]
     },
     "execution_count": 10,
     "metadata": {},
     "output_type": "execute_result"
    }
   ],
   "source": [
    "# Creating DataFrame for Most Profitable Items\n",
    "df9 = pd.DataFrame(\n",
    "    {\n",
    "        \"Purchase Count\": item_purchase_count,\n",
    "        \"Item Price\": item_price,\n",
    "        \"Total Purchase Value\": item_total_value,\n",
    "    }\n",
    ")\n",
    "\n",
    "# Sorting 5 most profitable items by \"Total Purchase Value\" in descending order and formatting for currency $\n",
    "df9.sort_values([\"Total Purchase Value\"], ascending=False).head(5).style.format(\n",
    "    {\"Item Price\": \"${:,.2f}\", \"Total Purchase Value\": \"${:,.2f}\"}\n",
    ")"
   ]
  }
 ],
 "metadata": {
  "anaconda-cloud": {},
  "environment": {
   "name": "common-cpu.m54",
   "type": "gcloud",
   "uri": "gcr.io/deeplearning-platform-release/base-cpu:m54"
  },
  "kernel_info": {
   "name": "python3"
  },
  "kernelspec": {
   "display_name": "Python 3",
   "language": "python",
   "name": "python3"
  },
  "language_info": {
   "codemirror_mode": {
    "name": "ipython",
    "version": 3
   },
   "file_extension": ".py",
   "mimetype": "text/x-python",
   "name": "python",
   "nbconvert_exporter": "python",
   "pygments_lexer": "ipython3",
   "version": "3.7.8"
  },
  "latex_envs": {
   "LaTeX_envs_menu_present": true,
   "autoclose": false,
   "autocomplete": true,
   "bibliofile": "biblio.bib",
   "cite_by": "apalike",
   "current_citInitial": 1,
   "eqLabelWithNumbers": true,
   "eqNumInitial": 1,
   "hotkeys": {
    "equation": "Ctrl-E",
    "itemize": "Ctrl-I"
   },
   "labels_anchors": false,
   "latex_user_defs": false,
   "report_style_numbering": false,
   "user_envs_cfg": false
  },
  "nteract": {
   "version": "0.2.0"
  }
 },
 "nbformat": 4,
 "nbformat_minor": 4
}
